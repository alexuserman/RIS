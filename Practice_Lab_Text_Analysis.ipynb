{
  "nbformat": 4,
  "nbformat_minor": 0,
  "metadata": {
    "colab": {
      "provenance": [],
      "authorship_tag": "ABX9TyOjdEDPpa+24zaM3FAAw2mX",
      "include_colab_link": true
    },
    "kernelspec": {
      "name": "python3",
      "display_name": "Python 3"
    },
    "language_info": {
      "name": "python"
    }
  },
  "cells": [
    {
      "cell_type": "markdown",
      "metadata": {
        "id": "view-in-github",
        "colab_type": "text"
      },
      "source": [
        "<a href=\"https://colab.research.google.com/github/alexuserman/RIS/blob/master/Practice_Lab_Text_Analysis.ipynb\" target=\"_parent\"><img src=\"https://colab.research.google.com/assets/colab-badge.svg\" alt=\"Open In Colab\"/></a>"
      ]
    },
    {
      "cell_type": "code",
      "execution_count": null,
      "metadata": {
        "id": "HkDfyLnn8GNn"
      },
      "outputs": [],
      "source": []
    },
    {
      "cell_type": "markdown",
      "source": [
        "Step 1: Define a String\n",
        "\"Lorem ipsum dolor! diam amet, consetetur Lorem magna. sed diam nonumy eirmod tempor. diam et labore? et diam magna. et diam amet.\"\n",
        "Hint: Use a variable and store the above string."
      ],
      "metadata": {
        "id": "4Vmb1TH-T9GQ"
      }
    },
    {
      "cell_type": "code",
      "source": [
        "givenstring = \"Lorem ipsum dolor! diam amet, consetetur Lorem magna. sed diam nonumy eirmod tempor. diam et labore? et diam magna. et diam amet.\""
      ],
      "metadata": {
        "id": "UM2TtyKhTvOJ"
      },
      "execution_count": 3,
      "outputs": []
    },
    {
      "cell_type": "markdown",
      "source": [
        "Step 2: Define the class and its attributes\n",
        "1. Create a class named TextAnalyzer\n",
        "2. Define the constructor __init__ method that takes a text argument."
      ],
      "metadata": {
        "id": "QT9l4doIUTsp"
      }
    },
    {
      "cell_type": "code",
      "source": [
        "# Please do not run this code cell as it is incomplete and will produce an error.\n",
        "\n",
        "# Let's create a class called TextAnalyzer to analyze text.\n",
        "class TextAnalyzer:\n",
        "\n",
        "# The __init__ method initializes the class with a 'text' parameter.\n",
        "   def __init__ (self, text):\n",
        "\n",
        "    # You will store the provided 'text' as an instance variable.#Das kommt dann in PartB\n",
        ""
      ],
      "metadata": {
        "id": "QanDrXVMUw_Q"
      },
      "execution_count": null,
      "outputs": []
    },
    {
      "cell_type": "markdown",
      "source": [
        "Step 3: Implement a code to format the text in lowercase\n",
        "1. Inside the constructor, convert the text argument to lowercase using the lower() method.\n",
        "2. Then, remove punctuation marks (periods, exclamation marks, commas, and question marks) from the text using the replace() method.\n",
        "3. Finally, assign the formatted text to a new attribute called fmtText.\n",
        "**Here you will be updating the above TextAnalyzer class with the points mentioned above.**"
      ],
      "metadata": {
        "id": "lqGCdjWZWfkw"
      }
    },
    {
      "cell_type": "code",
      "source": [
        "# Press Shift+Enter to run the code.\n",
        "class TextAnalyzer(object):\n",
        "       def __init__ (self, text):\n",
        "\n",
        "        # remove punctuation\n",
        "        formattedText = text.replace('.','').replace('!','').replace('?','').replace(',','')\n",
        "\n",
        "\n",
        "        # make text lowercase\n",
        "        formattedText = formattedText.lower()\n",
        "\n",
        "        self.fmtText = formattedText\n",
        "           # This stores the modified text (now lowercase and punctuation-free) in the instance variable self.fmtText.\n",
        "           # The instance variable means, that each instance (object) of the class gets its own separate copy of it."
      ],
      "metadata": {
        "id": "3rHuO1t_W-lP"
      },
      "execution_count": 1,
      "outputs": []
    },
    {
      "cell_type": "markdown",
      "source": [
        "**Step 4: Implement a code to count the frequency of all unique words**\n",
        "In this step, you will implement the *freqAll()* method with the below parameters:\n",
        "1. Split the fmtText attribute into individual words using the split() method.\n",
        "2. Create an empty dictionary to store the word frequency.\n",
        "3. Iterate over the list of words and update the frequency dictionary accordingly.\n",
        "Use count method for counting the occurence.\n",
        "4. Return the frequency dictionary.\n",
        "5. Update the above TextAnalyzer class with points mentioned above."
      ],
      "metadata": {
        "id": "ovx0Mtr0YNen"
      }
    },
    {
      "cell_type": "code",
      "source": [
        "class TextAnalyzer:\n",
        "\n",
        "    def __init__ (self, text):\n",
        "        # remove punctuation\n",
        "        formattedText = text.replace('.','').replace('!','').replace('?','').replace(',','')\n",
        "\n",
        "        # make text lowercase\n",
        "        formattedText = formattedText.lower()\n",
        "\n",
        "        self.fmtText = formattedText\n",
        "\n",
        "    def freqAll(self): # The freqAll() method creates a dictionary that stores word frequencies. It counts how many times each word appears in the text.\n",
        "        # split text into words\n",
        "        wordList = self.fmtText.split(' ')\n",
        "        #wordList is the new (local) variable where the result is stored. You need the new variable, because self.fmtText is immutable since it is a string.\n",
        "\n",
        "        # Create dictionary\n",
        "        freqMap = {}\n",
        "        for word in set(wordList): # use set to remove duplicates in list. Pyhton does not know that \"word\" is a word in the English language, it knos that word is an element from set(wordList). Since wordList is a list of words, set(wordList) is a set of unique words. for word in set(wordList): means: \"Take each element from the set and assign it to word in each loop iteration.\"\n",
        "            freqMap[word] = wordList.count(word)\n",
        "            #freqMap is a dictionary. In the dictionary freqMap, use word as the key. The count() method counts how many times word appears in wordList. This number is stored as the value in the dictionary under the key word\n",
        "\n",
        "        return freqMap\n",
        "        # If you do not include return freqMap, the method will execute, but it won't return any output. Instead, it will return None by default."
      ],
      "metadata": {
        "id": "LI_OYYVMYjew"
      },
      "execution_count": 2,
      "outputs": []
    },
    {
      "cell_type": "markdown",
      "source": [
        "1. Why def?\n",
        "\n",
        "    def freqAll(self): defines a method inside the class.\n",
        "    Methods in a class must be defined before they can be used.\n",
        "\n",
        "✅ 2. Why freqAll?\n",
        "\n",
        "    The split() method needs to be inside a function so that you can call it whenever you need to get the list of words.\n",
        "    Without freqAll, you'd have to manually call split() every time.\n",
        "\n",
        "✅ 3. What If You Didn't Use freqAll?\n",
        "\n",
        "You would need to manually split the text every time:\n",
        "\n",
        "analyzer = TextAnalyzer(\"Hello world! This is Python.\")\n",
        "wordList = analyzer.fmtText.split(' ')  # Manually splitting the text\n",
        "print(wordList)\n",
        "\n",
        "This works, but having a method like freqAll makes the code reusable and keeps the functionality inside the class."
      ],
      "metadata": {
        "id": "krkHnb1nbRpH"
      }
    },
    {
      "cell_type": "markdown",
      "source": [
        "Step 5: Implement a code to count the frequency of a specific word\n",
        "In step-5, you have to implement the freqOf(word) method that takes a word argument:\n",
        "\n",
        "1. Create a method and pass the word that needs to be found.\n",
        "2. Get the freqAll method to look for count and check if that word is in the list.\n",
        "3. Return the count. If the word is not found, the count returned is 0.\n",
        "Update the above TextAnalyzer class with the points mentioned above."
      ],
      "metadata": {
        "id": "UvxOEHDAjWVO"
      }
    },
    {
      "cell_type": "code",
      "source": [
        "class TextAnalyzer(object):\n",
        "\n",
        "    def __init__ (self, text):\n",
        "        # remove punctuation\n",
        "        formattedText = text.replace('.','').replace('!','').replace('?','').replace(',','')\n",
        "\n",
        "        # make text lowercase\n",
        "        formattedText = formattedText.lower()\n",
        "\n",
        "        self.fmtText = formattedText\n",
        "\n",
        "        self.freqMap = self.freqAll()\n",
        "\n",
        "    def freqAll(self):\n",
        "        # split text into words\n",
        "        wordList = self.fmtText.split(' ')\n",
        "\n",
        "        # Create dictionary\n",
        "        freqMap = {}\n",
        "        for word in set(wordList): # use set to remove duplicates in list\n",
        "            freqMap[word] = wordList.count(word)\n",
        "\n",
        "        return freqMap\n",
        "\n",
        "    def freqOf(self,word):\n",
        "        # get frequency map\n",
        "        freqDict = self.freqAll()\n",
        "\n",
        "        if word in freqDict:\n",
        "            return freqDict[word]\n",
        "        else:\n",
        "            return 0"
      ],
      "metadata": {
        "id": "9icyboSbjkYY"
      },
      "execution_count": 5,
      "outputs": []
    },
    {
      "cell_type": "markdown",
      "source": [
        "**Part B**\n",
        "In Part B, you will call the functions created in Part A, allowing the functions to execute and generate output. Instantiate the TextAnalyzer class by passing the given string as an argument."
      ],
      "metadata": {
        "id": "bfbQzcx8vEvw"
      }
    },
    {
      "cell_type": "code",
      "source": [
        "analyzed = TextAnalyzer(givenstring)"
      ],
      "metadata": {
        "id": "AH1RRcT_nsSN"
      },
      "execution_count": 6,
      "outputs": []
    },
    {
      "cell_type": "markdown",
      "source": [
        "Step 2: Call the function that converts the data into lowercase¶"
      ],
      "metadata": {
        "id": "c3uE6ehzoHqF"
      }
    },
    {
      "cell_type": "code",
      "source": [
        "print(\"Formatted Text:\", analyzed.fmtText)"
      ],
      "metadata": {
        "colab": {
          "base_uri": "https://localhost:8080/"
        },
        "id": "6518ME-2oLr9",
        "outputId": "0ebfdd25-dceb-4fb8-f5f7-8dc805f0bd71"
      },
      "execution_count": 7,
      "outputs": [
        {
          "output_type": "stream",
          "name": "stdout",
          "text": [
            "Formatted Text: lorem ipsum dolor diam amet consetetur lorem magna sed diam nonumy eirmod tempor diam et labore et diam magna et diam amet\n"
          ]
        }
      ]
    },
    {
      "cell_type": "markdown",
      "source": [
        "**Step 3**: Call the function that counts the frequency of all unique words from the data"
      ],
      "metadata": {
        "id": "zwKPyEHRvUCn"
      }
    },
    {
      "cell_type": "code",
      "source": [
        "freqMap = analyzed.freqAll() # This code calls a method (freqAll()) on an instance (analyzed) of the TextAnalyzer class, stores the result in freqMap, and prints the result.\n",
        "# analyzed.freqAll() => Calls the freqAll() method on the analyzed object.\n",
        "# Stores the returned dictionary in freqMap.\n",
        "# freqMap now contains each unique word as a key and its count as the value.\n",
        "print(freqMap)"
      ],
      "metadata": {
        "colab": {
          "base_uri": "https://localhost:8080/"
        },
        "id": "RARdOORovZBn",
        "outputId": "45e0edf4-673b-4f50-a5a3-ae586847db3f"
      },
      "execution_count": 12,
      "outputs": [
        {
          "output_type": "stream",
          "name": "stdout",
          "text": [
            "{'amet': 2, 'eirmod': 1, 'consetetur': 1, 'lorem': 2, 'nonumy': 1, 'sed': 1, 'ipsum': 1, 'dolor': 1, 'tempor': 1, 'et': 3, 'diam': 5, 'labore': 1, 'magna': 2}\n"
          ]
        }
      ]
    },
    {
      "cell_type": "markdown",
      "source": [
        "**Step 4**: Call the function that counts the frequency of a specific word\n",
        "Here, you will call the function that counts the frequency of the word \"lorem\".\n",
        "\n",
        "Print the output.**"
      ],
      "metadata": {
        "id": "WWaJ1H9HyJJo"
      }
    },
    {
      "cell_type": "code",
      "source": [
        "freqDict = analyzed.freqOf(\"lorem\")\n",
        "print(freqDict)"
      ],
      "metadata": {
        "colab": {
          "base_uri": "https://localhost:8080/"
        },
        "id": "T2MDTsfvyStB",
        "outputId": "8da352c0-a440-4b35-eaa4-fd04c667d90e"
      },
      "execution_count": 15,
      "outputs": [
        {
          "output_type": "stream",
          "name": "stdout",
          "text": [
            "2\n"
          ]
        }
      ]
    },
    {
      "cell_type": "markdown",
      "source": [],
      "metadata": {
        "id": "3fSBlRQSo3RW"
      }
    }
  ]
}